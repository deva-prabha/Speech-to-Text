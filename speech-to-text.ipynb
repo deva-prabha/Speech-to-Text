{
 "cells": [
  {
   "cell_type": "code",
   "execution_count": 1,
   "id": "3436969d",
   "metadata": {
    "_cell_guid": "b1076dfc-b9ad-4769-8c92-a6c4dae69d19",
    "_uuid": "8f2839f25d086af736a60e9eeb907d3b93b6e0e5",
    "execution": {
     "iopub.execute_input": "2024-03-10T17:10:49.719221Z",
     "iopub.status.busy": "2024-03-10T17:10:49.718514Z",
     "iopub.status.idle": "2024-03-10T17:10:50.944222Z",
     "shell.execute_reply": "2024-03-10T17:10:50.943241Z"
    },
    "papermill": {
     "duration": 1.231787,
     "end_time": "2024-03-10T17:10:50.946635",
     "exception": false,
     "start_time": "2024-03-10T17:10:49.714848",
     "status": "completed"
    },
    "tags": []
   },
   "outputs": [],
   "source": [
    "# This Python 3 environment comes with many helpful analytics libraries installed\n",
    "# It is defined by the kaggle/python Docker image: https://github.com/kaggle/docker-python\n",
    "# For example, here's several helpful packages to load\n",
    "\n",
    "import numpy as np # linear algebra\n",
    "import pandas as pd # data processing, CSV file I/O (e.g. pd.read_csv)\n",
    "\n",
    "# Input data files are available in the read-only \"../input/\" directory\n",
    "# For example, running this (by clicking run or pressing Shift+Enter) will list all files under the input directory\n",
    "\n",
    "\n",
    "# You can write up to 20GB to the current directory (/kaggle/working/) that gets preserved as output when you create a version using \"Save & Run All\" \n",
    "# You can also write temporary files to /kaggle/temp/, but they won't be saved outside of the current session"
   ]
  },
  {
   "cell_type": "code",
   "execution_count": 2,
   "id": "1fc724a8",
   "metadata": {
    "execution": {
     "iopub.execute_input": "2024-03-10T17:10:50.952247Z",
     "iopub.status.busy": "2024-03-10T17:10:50.951478Z",
     "iopub.status.idle": "2024-03-10T17:11:07.172805Z",
     "shell.execute_reply": "2024-03-10T17:11:07.171674Z"
    },
    "papermill": {
     "duration": 16.22616,
     "end_time": "2024-03-10T17:11:07.174944",
     "exception": false,
     "start_time": "2024-03-10T17:10:50.948784",
     "status": "completed"
    },
    "tags": []
   },
   "outputs": [
    {
     "name": "stdout",
     "output_type": "stream",
     "text": [
      "Collecting SpeechRecognition\r\n",
      "  Downloading SpeechRecognition-3.10.1-py2.py3-none-any.whl.metadata (28 kB)\r\n",
      "Requirement already satisfied: requests>=2.26.0 in /opt/conda/lib/python3.10/site-packages (from SpeechRecognition) (2.31.0)\r\n",
      "Requirement already satisfied: typing-extensions in /opt/conda/lib/python3.10/site-packages (from SpeechRecognition) (4.9.0)\r\n",
      "Requirement already satisfied: charset-normalizer<4,>=2 in /opt/conda/lib/python3.10/site-packages (from requests>=2.26.0->SpeechRecognition) (3.3.2)\r\n",
      "Requirement already satisfied: idna<4,>=2.5 in /opt/conda/lib/python3.10/site-packages (from requests>=2.26.0->SpeechRecognition) (3.6)\r\n",
      "Requirement already satisfied: urllib3<3,>=1.21.1 in /opt/conda/lib/python3.10/site-packages (from requests>=2.26.0->SpeechRecognition) (1.26.18)\r\n",
      "Requirement already satisfied: certifi>=2017.4.17 in /opt/conda/lib/python3.10/site-packages (from requests>=2.26.0->SpeechRecognition) (2024.2.2)\r\n",
      "Downloading SpeechRecognition-3.10.1-py2.py3-none-any.whl (32.8 MB)\r\n",
      "\u001b[2K   \u001b[90m━━━━━━━━━━━━━━━━━━━━━━━━━━━━━━━━━━━━━━━━\u001b[0m \u001b[32m32.8/32.8 MB\u001b[0m \u001b[31m42.6 MB/s\u001b[0m eta \u001b[36m0:00:00\u001b[0m\r\n",
      "\u001b[?25hInstalling collected packages: SpeechRecognition\r\n",
      "Successfully installed SpeechRecognition-3.10.1\r\n",
      "Note: you may need to restart the kernel to use updated packages.\n"
     ]
    }
   ],
   "source": [
    "pip install SpeechRecognition\n"
   ]
  },
  {
   "cell_type": "code",
   "execution_count": 3,
   "id": "6958172a",
   "metadata": {
    "execution": {
     "iopub.execute_input": "2024-03-10T17:11:07.183351Z",
     "iopub.status.busy": "2024-03-10T17:11:07.183071Z",
     "iopub.status.idle": "2024-03-10T17:11:26.694626Z",
     "shell.execute_reply": "2024-03-10T17:11:26.693540Z"
    },
    "papermill": {
     "duration": 19.518204,
     "end_time": "2024-03-10T17:11:26.696715",
     "exception": false,
     "start_time": "2024-03-10T17:11:07.178511",
     "status": "completed"
    },
    "tags": []
   },
   "outputs": [
    {
     "name": "stdout",
     "output_type": "stream",
     "text": [
      "Transcription: experiment with new payment system as many members know we have had a lot of problems with PayPal the company that processes our credit card orders this has been very frustrating for us and very frustrating for many of our members we apologize for the problems some of you have had with PayPal we do have some good news yesterday we switched to a different system we are now trying Google check out in general Google is a much better company with much better customer service we have talked to them about our needs and concerns and we are hopeful that Google's check out system will be a big Improvement we plan to test Google check out for 2 weeks then decide whether to switch permanently\n"
     ]
    }
   ],
   "source": [
    "import speech_recognition as sr\n",
    "\n",
    "# Initialize the recognizer\n",
    "r = sr.Recognizer()\n",
    "\n",
    "# Load your audio file\n",
    "audio_file_path = '/kaggle/input/audiodata/Google_Checkout.wav'\n",
    "\n",
    "with sr.AudioFile(audio_file_path) as source:\n",
    "    audio = r.record(source)\n",
    "\n",
    "# Recognizing speech using Google's speech recognition\n",
    "try:\n",
    "    text = r.recognize_google(audio)\n",
    "    print(\"Transcription: \" + text)\n",
    "except sr.UnknownValueError:\n",
    "    print(\"Google Speech Recognition could not understand audio\")\n",
    "except sr.RequestError as e:\n",
    "    print(\"Could not request results from Google Speech Recognition service; {0}\".format(e))\n"
   ]
  }
 ],
 "metadata": {
  "kaggle": {
   "accelerator": "nvidiaTeslaT4",
   "dataSources": [
    {
     "datasetId": 4573605,
     "sourceId": 7809085,
     "sourceType": "datasetVersion"
    }
   ],
   "dockerImageVersionId": 30665,
   "isGpuEnabled": true,
   "isInternetEnabled": true,
   "language": "python",
   "sourceType": "notebook"
  },
  "kernelspec": {
   "display_name": "Python 3",
   "language": "python",
   "name": "python3"
  },
  "language_info": {
   "codemirror_mode": {
    "name": "ipython",
    "version": 3
   },
   "file_extension": ".py",
   "mimetype": "text/x-python",
   "name": "python",
   "nbconvert_exporter": "python",
   "pygments_lexer": "ipython3",
   "version": "3.10.13"
  },
  "papermill": {
   "default_parameters": {},
   "duration": 41.070449,
   "end_time": "2024-03-10T17:11:27.017734",
   "environment_variables": {},
   "exception": null,
   "input_path": "__notebook__.ipynb",
   "output_path": "__notebook__.ipynb",
   "parameters": {},
   "start_time": "2024-03-10T17:10:45.947285",
   "version": "2.5.0"
  }
 },
 "nbformat": 4,
 "nbformat_minor": 5
}
